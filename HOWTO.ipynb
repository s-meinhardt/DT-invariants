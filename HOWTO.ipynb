{
 "cells": [
  {
   "attachments": {},
   "cell_type": "markdown",
   "metadata": {},
   "source": [
    "# 1. Quickstart\n",
    "\n",
    "If not already done, install the `dt-invariants` package using "
   ]
  },
  {
   "cell_type": "code",
   "execution_count": null,
   "metadata": {},
   "outputs": [],
   "source": [
    "# you only need to run this once\n",
    "import sys\n",
    "!{sys.executable} -m pip install dt-invariants"
   ]
  },
  {
   "attachments": {},
   "cell_type": "markdown",
   "metadata": {},
   "source": [
    "Import the following minimal set of objects"
   ]
  },
  {
   "cell_type": "code",
   "execution_count": null,
   "metadata": {},
   "outputs": [],
   "source": [
    "from dt_invariants import StabilityCondition, CentralCharge, Quiver, DimensionVector as dv"
   ]
  },
  {
   "attachments": {},
   "cell_type": "markdown",
   "metadata": {},
   "source": [
    "and define a quiver, a central charge as well as a stability condition. The arrow matrix is a dictionary with key-value pairs of the form \n",
    "```\n",
    "(source, target): num_of_arrows_from_source_to_target\n",
    "```\n",
    "where the vertices are indexed by 0, 1, ..., num_vertices - 1. You can provide an optional name."
   ]
  },
  {
   "cell_type": "code",
   "execution_count": null,
   "metadata": {},
   "outputs": [],
   "source": [
    "quiver = Quiver(num_vertices = 2, arrow_matrix = { (0,1): 2, (1,0): 2, (0,0): 1, (1,1): 1 }, name='Conifold')\n",
    "central_charge = CentralCharge(real=[0, 1])\n",
    "stab_cond = StabilityCondition(abelian_category=quiver.reps, charge=central_charge)"
   ]
  },
  {
   "attachments": {},
   "cell_type": "markdown",
   "metadata": {},
   "source": [
    "To get the motivic Donaldson-Thomas invariants, we compute the slicing of semistables objects and access the `dt_invariants` attribute. "
   ]
  },
  {
   "cell_type": "code",
   "execution_count": null,
   "metadata": {},
   "outputs": [],
   "source": [
    "dt_invariants = stab_cond.semistables.dt_invariants"
   ]
  },
  {
   "attachments": {},
   "cell_type": "markdown",
   "metadata": {},
   "source": [
    "We can either inspect the invariants at a particular dimension vector,  "
   ]
  },
  {
   "cell_type": "code",
   "execution_count": null,
   "metadata": {},
   "outputs": [],
   "source": [
    "dt_invariants(dv(2,3))"
   ]
  },
  {
   "attachments": {},
   "cell_type": "markdown",
   "metadata": {},
   "source": [
    "where the exponent of the normalizer in the denominator reflects the dimension of the associated (semi)stable moduli space, or inspect all DT-invariants of dimension vectors (bounded above) of a given phase in form of a generating series."
   ]
  },
  {
   "cell_type": "code",
   "execution_count": null,
   "metadata": {},
   "outputs": [],
   "source": [
    "phi = central_charge.phase(dv(3,3))\n",
    "dt_invariants(phi).below(dv(3,3), expand=True)"
   ]
  },
  {
   "attachments": {},
   "cell_type": "markdown",
   "metadata": {},
   "source": [
    "Note that the complexity of the computation grows exponentially with the dimension vector, hence, be modest! On the other hand, most objects use caching to avoid duplicated computions. You can see the impact by running the previous two code cells again."
   ]
  },
  {
   "attachments": {},
   "cell_type": "markdown",
   "metadata": {},
   "source": [
    "You can get the numerical Donaldson-Thomas invariants by substituting the correct square root $𝕃^{1/2}$ with $-1$. The Python package provides a special constant `R` for this particular root. You can also use the constant `L` for $𝕃$."
   ]
  },
  {
   "cell_type": "code",
   "execution_count": null,
   "metadata": {},
   "outputs": [],
   "source": [
    "from dt_invariants import R, L\n",
    "print('L =', L)\n",
    "print('R =', R)\n",
    "dt_invariants(dv(2,3)).subs(R, -1)"
   ]
  },
  {
   "attachments": {},
   "cell_type": "markdown",
   "metadata": {},
   "source": [
    "Substitution also works for generating series."
   ]
  },
  {
   "cell_type": "code",
   "execution_count": null,
   "metadata": {},
   "outputs": [],
   "source": [
    "dt_invariants(phi).below(dv(3,3)).subs(R, -1)"
   ]
  },
  {
   "attachments": {},
   "cell_type": "markdown",
   "metadata": {},
   "source": [
    "\n",
    "**Remember:** Motivic DT-invariants are only polynomial if the stability condition is generic, i.e. the Euler form of the quiver symmetric when restricted to dimension vectors of the same phase.\n",
    "\n",
    "Here is a counter example:"
   ]
  },
  {
   "cell_type": "code",
   "execution_count": null,
   "metadata": {},
   "outputs": [],
   "source": [
    "from sympy import factor, Symbol\n",
    "new_quiver = Quiver(num_vertices=2, arrow_matrix={(0,1): 1})\n",
    "bad_stab_cond = StabilityCondition(abelian_category=new_quiver.reps, charge=CentralCharge(real=[0,0]))\n",
    "# remove the substitution to see the expression in 'L'\n",
    "factor(bad_stab_cond.semistables.dt_invariants(dv(1,1)).subs(R, Symbol('R'))) # is not polynomial in 'R'"
   ]
  }
 ],
 "metadata": {
  "kernelspec": {
   "display_name": ".venv",
   "language": "python",
   "name": "python3"
  },
  "language_info": {
   "codemirror_mode": {
    "name": "ipython",
    "version": 3
   },
   "file_extension": ".py",
   "mimetype": "text/x-python",
   "name": "python",
   "nbconvert_exporter": "python",
   "pygments_lexer": "ipython3",
   "version": "3.10.0"
  },
  "orig_nbformat": 4,
  "vscode": {
   "interpreter": {
    "hash": "79daa4d7cf665f9518b37f3c568c88d1513596718d6e78f9de08d306ae1614d2"
   }
  }
 },
 "nbformat": 4,
 "nbformat_minor": 2
}
