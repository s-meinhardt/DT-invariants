{
 "cells": [
  {
   "attachments": {},
   "cell_type": "markdown",
   "metadata": {},
   "source": [
    "# 1. Quickstart\n",
    "\n",
    "If not already done, install the `dt-invariants` package using "
   ]
  },
  {
   "cell_type": "code",
   "execution_count": 6,
   "metadata": {},
   "outputs": [
    {
     "name": "stdout",
     "output_type": "stream",
     "text": [
      "Requirement already satisfied: dt-invariants in ./.venv/lib/python3.10/site-packages (0.1.0)\n",
      "Requirement already satisfied: sympy>=1.11.1 in ./.venv/lib/python3.10/site-packages (from dt-invariants) (1.11.1)\n",
      "Requirement already satisfied: mpmath>=0.19 in ./.venv/lib/python3.10/site-packages (from sympy>=1.11.1->dt-invariants) (1.3.0)\n",
      "Note: you may need to restart the kernel to use updated packages.\n"
     ]
    }
   ],
   "source": [
    "# you only need to run this once\n",
    "pip install dt-invariants"
   ]
  },
  {
   "attachments": {},
   "cell_type": "markdown",
   "metadata": {},
   "source": [
    "Import the following minimal set of objects"
   ]
  },
  {
   "cell_type": "code",
   "execution_count": 2,
   "metadata": {},
   "outputs": [],
   "source": [
    "from dt_invariants import StabilityCondition, CentralCharge, Quiver, DimensionVector as dv"
   ]
  },
  {
   "attachments": {},
   "cell_type": "markdown",
   "metadata": {},
   "source": [
    "and define a quiver, a central charge as well as a stability condition. The arrow matrix is a dictionary with key-value pairs of the form \n",
    "```\n",
    "(source, target): num_of_arrows_from_source_to_target\n",
    "```\n",
    "where the vertices are indexed by 0, 1, ..., num_vertices - 1. You can provide an optional name."
   ]
  },
  {
   "cell_type": "code",
   "execution_count": 13,
   "metadata": {},
   "outputs": [],
   "source": [
    "quiver = Quiver(num_vertices = 2, arrow_matrix = { (0,1): 2, (1,0): 2, (0,0): 1, (1,1): 1 }, name='Conifold')\n",
    "central_charge = CentralCharge(real=[0, 1])\n",
    "stab_cond = StabilityCondition(abelian_category=quiver.reps, charge=central_charge)"
   ]
  },
  {
   "attachments": {},
   "cell_type": "markdown",
   "metadata": {},
   "source": [
    "To get the motivic Donaldson-Thomas invariants, we compute the slicing of semistables objects and access the `dt_invariants` attribute. "
   ]
  },
  {
   "cell_type": "code",
   "execution_count": 14,
   "metadata": {},
   "outputs": [],
   "source": [
    "dt_invariants = stab_cond.semistables.dt_invariants"
   ]
  },
  {
   "attachments": {},
   "cell_type": "markdown",
   "metadata": {},
   "source": [
    "We can either inspect the invariants at a particular dimension vector,  "
   ]
  },
  {
   "cell_type": "code",
   "execution_count": 11,
   "metadata": {},
   "outputs": [
    {
     "data": {
      "text/latex": [
       "$\\displaystyle \\frac{𝕃^{25} + 𝕃^{24} + 3 𝕃^{23} + 4 𝕃^{22} + 6 𝕃^{21} + 7 𝕃^{20} + 7 𝕃^{19} + 4 𝕃^{18} + 2 𝕃^{17}}{𝕃^{\\frac{25}{2}}}$"
      ],
      "text/plain": [
       "(𝕃**25 + 𝕃**24 + 3*𝕃**23 + 4*𝕃**22 + 6*𝕃**21 + 7*𝕃**20 + 7*𝕃**19 + 4*𝕃**18 + 2*𝕃**17)/𝕃**(25/2)"
      ]
     },
     "execution_count": 11,
     "metadata": {},
     "output_type": "execute_result"
    }
   ],
   "source": [
    "dt_invariants(dv(2,3))"
   ]
  },
  {
   "attachments": {},
   "cell_type": "markdown",
   "metadata": {},
   "source": [
    "where the exponent of the normalizer in the denominator reflects the dimension of the associated (semi)stable moduli space, or inspect all DT-invariants of dimension vectors (bounded above) of a given phase in form of a generating series."
   ]
  },
  {
   "cell_type": "code",
   "execution_count": 33,
   "metadata": {},
   "outputs": [
    {
     "data": {
      "text/latex": [
       "$\\displaystyle x^{d(1,1)} \\left(𝕃^{\\frac{5}{2}} + 𝕃^{\\frac{3}{2}}\\right) + x^{d(2,2)} \\left(𝕃^{\\frac{17}{2}} + 𝕃^{\\frac{15}{2}} + 3 𝕃^{\\frac{13}{2}} + 3 𝕃^{\\frac{11}{2}} + 3 𝕃^{\\frac{9}{2}} + 𝕃^{\\frac{7}{2}}\\right) + x^{d(3,3)} \\left(𝕃^{\\frac{37}{2}} + 𝕃^{\\frac{35}{2}} + 3 𝕃^{\\frac{33}{2}} + 5 𝕃^{\\frac{31}{2}} + 8 𝕃^{\\frac{29}{2}} + 12 𝕃^{\\frac{27}{2}} + 17 𝕃^{\\frac{25}{2}} + 21 𝕃^{\\frac{23}{2}} + 25 𝕃^{\\frac{21}{2}} + 27 𝕃^{\\frac{19}{2}} + 24 𝕃^{\\frac{17}{2}} + 18 𝕃^{\\frac{15}{2}} + 9 𝕃^{\\frac{13}{2}} + 3 𝕃^{\\frac{11}{2}}\\right)$"
      ],
      "text/plain": [
       "x**d(1,1)*(𝕃**(5/2) + 𝕃**(3/2)) + x**d(2,2)*(𝕃**(17/2) + 𝕃**(15/2) + 3*𝕃**(13/2) + 3*𝕃**(11/2) + 3*𝕃**(9/2) + 𝕃**(7/2)) + x**d(3,3)*(𝕃**(37/2) + 𝕃**(35/2) + 3*𝕃**(33/2) + 5*𝕃**(31/2) + 8*𝕃**(29/2) + 12*𝕃**(27/2) + 17*𝕃**(25/2) + 21*𝕃**(23/2) + 25*𝕃**(21/2) + 27*𝕃**(19/2) + 24*𝕃**(17/2) + 18*𝕃**(15/2) + 9*𝕃**(13/2) + 3*𝕃**(11/2))"
      ]
     },
     "execution_count": 33,
     "metadata": {},
     "output_type": "execute_result"
    }
   ],
   "source": [
    "phi = central_charge.phase(dv(3,3))\n",
    "dt_invariants(phi).below(dv(3,3), expand=True)"
   ]
  },
  {
   "attachments": {},
   "cell_type": "markdown",
   "metadata": {},
   "source": [
    "Note that the complexity of the computation grows exponentially with the dimension vector, hence, be modest! On the other hand, most objects use caching to avoid duplicated computions. You can see the impact by running the previous two code cells again."
   ]
  },
  {
   "attachments": {},
   "cell_type": "markdown",
   "metadata": {},
   "source": [
    "You can get the numerical Donaldson-Thomas invariants by substituting the correct square root $𝕃^{1/2}$ with $-1$. The Python package provides a special constant `R` for this particular root. You can also use the constant `L` for $𝕃$."
   ]
  },
  {
   "cell_type": "code",
   "execution_count": 40,
   "metadata": {},
   "outputs": [
    {
     "name": "stdout",
     "output_type": "stream",
     "text": [
      "L = 𝕃\n",
      "R = sqrt(𝕃)\n"
     ]
    },
    {
     "data": {
      "text/latex": [
       "$\\displaystyle -35$"
      ],
      "text/plain": [
       "-35"
      ]
     },
     "execution_count": 40,
     "metadata": {},
     "output_type": "execute_result"
    }
   ],
   "source": [
    "from dt_invariants import R, L\n",
    "print('L =', L)\n",
    "print('R =', R)\n",
    "dt_invariants(dv(2,3)).subs(R, -1)"
   ]
  },
  {
   "attachments": {},
   "cell_type": "markdown",
   "metadata": {},
   "source": [
    "Substitution also works for generating series."
   ]
  },
  {
   "cell_type": "code",
   "execution_count": 23,
   "metadata": {},
   "outputs": [
    {
     "data": {
      "text/latex": [
       "$\\displaystyle - 2 x^{d(1,1)} - 12 x^{d(2,2)} - 174 x^{d(3,3)}$"
      ],
      "text/plain": [
       "-2*x**d(1,1) - 12*x**d(2,2) - 174*x**d(3,3)"
      ]
     },
     "execution_count": 23,
     "metadata": {},
     "output_type": "execute_result"
    }
   ],
   "source": [
    "dt_invariants(phi).below(dv(3,3)).subs(R, -1)"
   ]
  },
  {
   "attachments": {},
   "cell_type": "markdown",
   "metadata": {},
   "source": [
    "\n",
    "**Remember:** Motivic DT-invariants are only polynomial if the stability condition is generic, i.e. the Euler form of the quiver symmetric when restricted to dimension vectors of the same phase.\n",
    "\n",
    "Here is a counter example:"
   ]
  },
  {
   "cell_type": "code",
   "execution_count": 44,
   "metadata": {},
   "outputs": [
    {
     "data": {
      "text/latex": [
       "$\\displaystyle \\frac{R}{R + 1}$"
      ],
      "text/plain": [
       "R/(R + 1)"
      ]
     },
     "execution_count": 44,
     "metadata": {},
     "output_type": "execute_result"
    }
   ],
   "source": [
    "from sympy import factor, Symbol\n",
    "new_quiver = Quiver(num_vertices=2, arrow_matrix={(0,1): 1})\n",
    "bad_stab_cond = StabilityCondition(abelian_category=new_quiver.reps, charge=CentralCharge(real=[0,0]))\n",
    "# remove the substitution to see the expression in 'L'\n",
    "factor(bad_stab_cond.semistables.dt_invariants(dv(1,1)).subs(R, Symbol('R'))) # is not polynomial in 'R'"
   ]
  }
 ],
 "metadata": {
  "kernelspec": {
   "display_name": ".venv",
   "language": "python",
   "name": "python3"
  },
  "language_info": {
   "codemirror_mode": {
    "name": "ipython",
    "version": 3
   },
   "file_extension": ".py",
   "mimetype": "text/x-python",
   "name": "python",
   "nbconvert_exporter": "python",
   "pygments_lexer": "ipython3",
   "version": "3.10.0"
  },
  "orig_nbformat": 4
 },
 "nbformat": 4,
 "nbformat_minor": 2
}
