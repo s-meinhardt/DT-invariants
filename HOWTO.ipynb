{
  "cells": [
    {
      "cell_type": "markdown",
      "metadata": {
        "id": "view-in-github",
        "colab_type": "text"
      },
      "source": [
        "<a href=\"https://colab.research.google.com/github/s-meinhardt/DT-invariants/blob/main/HOWTO.ipynb\" target=\"_parent\"><img src=\"https://colab.research.google.com/assets/colab-badge.svg\" alt=\"Open In Colab\"/></a>"
      ]
    },
    {
      "cell_type": "markdown",
      "metadata": {
        "id": "bDJIF_EJges9"
      },
      "source": [
        "# 1. Quickstart\n",
        "\n",
        "If not already done, install the `dt-invariants` package using "
      ]
    },
    {
      "cell_type": "code",
      "execution_count": null,
      "metadata": {
        "id": "9JKrS-tKgetA"
      },
      "outputs": [],
      "source": [
        "# you only need to run this once\n",
        "import sys\n",
        "!{sys.executable} -m pip install dt-invariants"
      ]
    },
    {
      "cell_type": "markdown",
      "metadata": {
        "id": "haWMWCsngetC"
      },
      "source": [
        "Import the following minimal set of objects"
      ]
    },
    {
      "cell_type": "code",
      "execution_count": null,
      "metadata": {
        "id": "cJtgpAFBgetD"
      },
      "outputs": [],
      "source": [
        "from dt_invariants import StabilityCondition, CentralCharge, Quiver, DimensionVector as dv"
      ]
    },
    {
      "cell_type": "markdown",
      "metadata": {
        "id": "9SJwwAmJgetD"
      },
      "source": [
        "and define a quiver, a central charge as well as a stability condition. The arrow matrix is a dictionary with key-value pairs of the form \n",
        "```\n",
        "(source, target): num_of_arrows_from_source_to_target\n",
        "```\n",
        "where the vertices are indexed by 0, 1, ..., num_vertices - 1. You can provide an optional name."
      ]
    },
    {
      "cell_type": "code",
      "execution_count": null,
      "metadata": {
        "id": "iCND88ukgetF"
      },
      "outputs": [],
      "source": [
        "quiver = Quiver(num_vertices = 2, arrow_matrix = { (0,1): 2, (1,0): 2, (0,0): 1, (1,1): 1 }, name='Conifold')\n",
        "central_charge = CentralCharge(real=[0, 1])\n",
        "stab_cond = StabilityCondition(abelian_category=quiver.reps, charge=central_charge)"
      ]
    },
    {
      "cell_type": "markdown",
      "metadata": {
        "id": "s69lzaqVgetG"
      },
      "source": [
        "To get the motivic Donaldson-Thomas invariants, we compute the slicing of semistables objects and access the `dt_invariants` attribute. "
      ]
    },
    {
      "cell_type": "code",
      "execution_count": null,
      "metadata": {
        "id": "0Y3_fL4EgetH"
      },
      "outputs": [],
      "source": [
        "dt_invariants = stab_cond.semistables.dt_invariants"
      ]
    },
    {
      "cell_type": "markdown",
      "metadata": {
        "id": "VuQu4kOVgetI"
      },
      "source": [
        "We can either inspect the invariants at a particular dimension vector,  "
      ]
    },
    {
      "cell_type": "code",
      "execution_count": null,
      "metadata": {
        "id": "u1PdXkHXgetJ"
      },
      "outputs": [],
      "source": [
        "dt_invariants(dv(2,3))"
      ]
    },
    {
      "cell_type": "markdown",
      "metadata": {
        "id": "GdO6fDnlgetK"
      },
      "source": [
        "where the exponent of the normalizer in the denominator reflects the dimension of the associated (semi)stable moduli space, or inspect all DT-invariants of dimension vectors (bounded above) of a given phase in form of a generating series."
      ]
    },
    {
      "cell_type": "code",
      "execution_count": null,
      "metadata": {
        "id": "hk4LV3sEgetL"
      },
      "outputs": [],
      "source": [
        "phi = central_charge.phase(dv(3,3))\n",
        "dt_invariants(phi).below(dv(3,3), expand=True)"
      ]
    },
    {
      "cell_type": "markdown",
      "metadata": {
        "id": "amDMUXxkgetL"
      },
      "source": [
        "Note that the complexity of the computation grows exponentially with the dimension vector, hence, be modest! On the other hand, most objects use caching to avoid duplicated computions. You can see the impact by running the previous two code cells again."
      ]
    },
    {
      "cell_type": "markdown",
      "metadata": {
        "id": "vI20Fc-8getL"
      },
      "source": [
        "You can get the numerical Donaldson-Thomas invariants by substituting the correct square root $𝕃^{1/2}$ with $-1$. The Python package provides a special constant `R` for this particular root. You can also use the constant `L` for $𝕃$."
      ]
    },
    {
      "cell_type": "code",
      "execution_count": null,
      "metadata": {
        "id": "kc-Y7K7ugetM"
      },
      "outputs": [],
      "source": [
        "from dt_invariants import R, L\n",
        "print('L =', L)\n",
        "print('R =', R)\n",
        "dt_invariants(dv(2,3)).subs(R, -1)"
      ]
    },
    {
      "cell_type": "markdown",
      "metadata": {
        "id": "YiujX3GagetN"
      },
      "source": [
        "Substitution also works for generating series."
      ]
    },
    {
      "cell_type": "code",
      "execution_count": null,
      "metadata": {
        "id": "iXd8fPKwgetN"
      },
      "outputs": [],
      "source": [
        "dt_invariants(phi).below(dv(3,3)).subs(R, -1)"
      ]
    },
    {
      "cell_type": "markdown",
      "metadata": {
        "id": "1OvmyTZigetP"
      },
      "source": [
        "\n",
        "**Remember:** Motivic DT-invariants are only polynomial if the stability condition is generic, i.e. the Euler form of the quiver symmetric when restricted to dimension vectors of the same phase.\n",
        "\n",
        "Here is a counter example:"
      ]
    },
    {
      "cell_type": "code",
      "execution_count": null,
      "metadata": {
        "id": "SW_OMGXZgetP"
      },
      "outputs": [],
      "source": [
        "from sympy import factor, Symbol\n",
        "new_quiver = Quiver(num_vertices=2, arrow_matrix={(0,1): 1})\n",
        "bad_stab_cond = StabilityCondition(abelian_category=new_quiver.reps, charge=CentralCharge(real=[0,0]))\n",
        "# remove the substitution to see the expression in 'L'\n",
        "factor(bad_stab_cond.semistables.dt_invariants(dv(1,1)).subs(R, Symbol('R'))) # is not polynomial in 'R'"
      ]
    }
  ],
  "metadata": {
    "kernelspec": {
      "display_name": ".venv",
      "language": "python",
      "name": "python3"
    },
    "language_info": {
      "codemirror_mode": {
        "name": "ipython",
        "version": 3
      },
      "file_extension": ".py",
      "mimetype": "text/x-python",
      "name": "python",
      "nbconvert_exporter": "python",
      "pygments_lexer": "ipython3",
      "version": "3.10.0"
    },
    "orig_nbformat": 4,
    "vscode": {
      "interpreter": {
        "hash": "79daa4d7cf665f9518b37f3c568c88d1513596718d6e78f9de08d306ae1614d2"
      }
    },
    "colab": {
      "provenance": [],
      "include_colab_link": true
    }
  },
  "nbformat": 4,
  "nbformat_minor": 0
}